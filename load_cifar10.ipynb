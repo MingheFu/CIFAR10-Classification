{
 "cells": [
  {
   "cell_type": "code",
   "execution_count": 1,
   "id": "b8eb33a9-1ddf-44a3-bc56-d8621eb4337d",
   "metadata": {},
   "source": [
    "import torch\n",
    "import torchvision\n",
    "import torchvision.transforms as transforms\n",
    "import numpy as np"
   ],
   "outputs": []
  },
  {
   "cell_type": "code",
   "execution_count": 3,
   "id": "dd86fc0a-d9cc-4bc0-a9f3-3cc6ca13227f",
   "metadata": {},
   "source": [
    "def unpickle(file):\n",
    "    import pickle\n",
    "    with open(file, 'rb') as fo:\n",
    "        dict = pickle.load(fo, encoding='bytes')\n",
    "    return dict"
   ],
   "outputs": []
  },
  {
   "cell_type": "code",
   "execution_count": 4,
   "id": "487d1b59-8b52-4629-834b-ce19f8ac6883",
   "metadata": {},
   "source": [
    "data = []\n",
    "labels = []\n",
    "for i in range(1, 6):\n",
    "    batch_name = f'data_batch_{i}'\n",
    "    batch = unpickle(batch_name)\n",
    "    data.append(batch[b'data'])\n",
    "    labels.extend(batch[b'labels'])\n",
    "\n",
    "# Convert list to numpy arrays\n",
    "data = np.vstack(data)\n",
    "labels = np.array(labels)\n",
    "np.save('data.npy', data)\n",
    "np.save('labels.npy', labels)\n",
    "\n",
    "data = data.reshape(-1, 3, 32, 32).transpose(0, 2, 3, 1)\n",
    "print(\"Data shape:\", data.shape)\n",
    "print(\"Labels shape:\", labels.shape)"
   ],
   "outputs": []
  },
  {
   "cell_type": "code",
   "execution_count": null,
   "id": "f3950b58-591d-45a1-85ec-a0ff32fca0f6",
   "metadata": {},
   "source": [],
   "outputs": []
  }
 ],
 "metadata": {
  "kernelspec": {
   "display_name": "Python 3 (ipykernel)",
   "language": "python",
   "name": "python3"
  },
  "language_info": {
   "codemirror_mode": {
    "name": "ipython",
    "version": 3
   },
   "file_extension": ".py",
   "mimetype": "text/x-python",
   "name": "python",
   "nbconvert_exporter": "python",
   "pygments_lexer": "ipython3",
   "version": "3.10.14"
  }
 },
 "nbformat": 4,
 "nbformat_minor": 5
}
