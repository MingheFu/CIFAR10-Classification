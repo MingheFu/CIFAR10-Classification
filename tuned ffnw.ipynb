{
 "cells": [
  {
   "cell_type": "code",
   "id": "initial_id",
   "metadata": {
    "collapsed": true,
    "ExecuteTime": {
     "end_time": "2024-06-08T03:22:27.822890Z",
     "start_time": "2024-06-08T03:22:27.819537Z"
    }
   },
   "source": [
    "from keras_tuner.tuners import RandomSearch\n",
    "from tensorflow.keras.models import Sequential\n",
    "from tensorflow.keras.layers import Dense\n",
    "from tensorflow.keras.optimizers import Adam\n",
    "from sklearn.preprocessing import LabelBinarizer\n",
    "from sklearn.model_selection import train_test_split\n",
    "import numpy as np\n",
    "import matplotlib.pyplot as plt\n",
    "from tensorflow.keras.utils import to_categorical"
   ],
   "outputs": [],
   "execution_count": 12
  },
  {
   "metadata": {
    "ExecuteTime": {
     "end_time": "2024-06-07T23:03:45.754897Z",
     "start_time": "2024-06-07T23:03:45.745072Z"
    }
   },
   "cell_type": "code",
   "source": [
    "def build_model(hp):\n",
    "    model = Sequential()\n",
    "    model.add(Dense(units=hp.Int('units_1', min_value=32, max_value=1024, step=32),\n",
    "                    activation='relu', input_shape=(3072,)))\n",
    "    for i in range(hp.Int('num_layers', 1, 3)):\n",
    "        model.add(Dense(units=hp.Int(f'units_{i+2}', min_value=32, max_value=1024, step=32), \n",
    "                        activation='relu'))\n",
    "    model.add(Dense(10, activation='softmax'))\n",
    "    model.compile(optimizer=Adam(learning_rate=hp.Choice('learning_rate', [1e-2, 1e-3, 1e-4])),\n",
    "                  loss='categorical_crossentropy',\n",
    "                  metrics=['accuracy'])\n",
    "    return model\n"
   ],
   "id": "51dd46925f3df393",
   "outputs": [],
   "execution_count": 2
  },
  {
   "metadata": {
    "ExecuteTime": {
     "end_time": "2024-06-07T23:04:40.528515Z",
     "start_time": "2024-06-07T23:04:39.785997Z"
    }
   },
   "cell_type": "code",
   "source": [
    "data = np.load('data.npy')\n",
    "labels = np.load('labels.npy')\n",
    "data = data.astype('float32') / 255.0\n",
    "data = data.reshape(data.shape[0],-1)\n",
    "labels = LabelBinarizer().fit_transform(labels)"
   ],
   "id": "36dc101f34e8ff85",
   "outputs": [],
   "execution_count": 5
  },
  {
   "metadata": {
    "ExecuteTime": {
     "end_time": "2024-06-08T03:24:54.165387Z",
     "start_time": "2024-06-08T03:24:54.045807Z"
    }
   },
   "cell_type": "code",
   "source": [
    "def unpickle(file):\n",
    "    import pickle\n",
    "    with open(file, 'rb') as fo:\n",
    "        dict = pickle.load(fo, encoding='bytes')\n",
    "    return dict\n",
    "test_batch = unpickle('test_batch')\n",
    "test_data = test_batch[b'data']\n",
    "test_labels = test_batch[b'labels']\n",
    "test_data = np.array(test_data)\n",
    "test_labels = np.array(test_labels)\n",
    "test_data = test_data.astype('float32') / 255.0\n",
    "test_data = test_data.reshape(test_data.shape[0], -1)\n",
    "print(\"Test Data shape:\", test_data.shape)\n",
    "print(\"Test Labels shape:\", test_labels.shape)"
   ],
   "id": "698fef5d41b31871",
   "outputs": [
    {
     "name": "stdout",
     "output_type": "stream",
     "text": [
      "Test Data shape: (10000, 3072)\n",
      "Test Labels shape: (10000,)\n"
     ]
    }
   ],
   "execution_count": 15
  },
  {
   "metadata": {
    "ExecuteTime": {
     "end_time": "2024-06-07T23:04:43.289282Z",
     "start_time": "2024-06-07T23:04:42.560527Z"
    }
   },
   "cell_type": "code",
   "source": "X_train, X_test, y_train, y_test = train_test_split(data, labels, test_size=0.2, random_state=42)",
   "id": "e08a11bab48208d8",
   "outputs": [],
   "execution_count": 6
  },
  {
   "metadata": {
    "ExecuteTime": {
     "end_time": "2024-06-01T04:10:24.412412Z",
     "start_time": "2024-06-01T04:10:24.403278Z"
    }
   },
   "cell_type": "code",
   "source": [
    "print(\"X_train shape:\", X_train.shape)\n",
    "print(\"X_test shape:\", X_test.shape)\n",
    "print(\"y_train shape:\", y_train.shape)\n",
    "print(\"y_test shape:\", y_test.shape)"
   ],
   "id": "e02d2ea646f73f5b",
   "execution_count": 26,
   "outputs": []
  },
  {
   "metadata": {},
   "cell_type": "code",
   "source": [
    "tuner = RandomSearch(\n",
    "    build_model,\n",
    "    objective='val_accuracy',\n",
    "    max_trials=10,\n",
    "    executions_per_trial=1,\n",
    "    directory='my_dir',\n",
    "    project_name='tuning_ffnw_4',\n",
    "    overwrite=True\n",
    ")\n",
    "tuner.search_space_summary()\n",
    "tuner.search(X_train, y_train, epochs=35, validation_data=(X_test, y_test), verbose=1)"
   ],
   "id": "23beee715927a912",
   "execution_count": 8,
   "outputs": [
    {
     "name": "stdout",
     "output_type": "stream",
     "text": [
      "Trial 10 Complete [00h 10m 47s]\n",
      "val_accuracy: 0.5422000288963318\n",
      "\n",
      "Best val_accuracy So Far: 0.5486000180244446\n",
      "Total elapsed time: 03h 29m 56s\n"
     ]
    }
   ]
  },
  {
   "metadata": {
    "ExecuteTime": {
     "end_time": "2024-06-08T03:22:00.997871Z",
     "start_time": "2024-06-08T03:09:29.945253Z"
    }
   },
   "cell_type": "code",
   "source": [
    "best_trials = tuner.oracle.get_best_trials()\n",
    "best_hps = tuner.get_best_hyperparameters(num_trials=1)[0]\n",
    "model = tuner.hypermodel.build(best_hps)\n",
    "history = model.fit(X_train, y_train, epochs=35, validation_data=(X_test, y_test))\n",
    "# Evaluate the model\n",
    "val_loss, val_accuracy = model.evaluate(X_test, y_test)\n",
    "print(f\"Validation Loss: {val_loss}, Validation Accuracy: {val_accuracy}\")\n",
    "plt.figure()\n",
    "plt.plot(history.history['accuracy'], label='train accuracy')\n",
    "plt.plot(history.history['val_accuracy'], label='validation accuracy')\n",
    "plt.title('Model Accuracy')\n",
    "plt.xlabel('Epoch')\n",
    "plt.ylabel('Accuracy')\n",
    "plt.legend()\n",
    "plt.show()\n",
    "plt.figure()\n",
    "plt.plot(history.history['loss'], label='train loss')\n",
    "plt.plot(history.history['val_loss'], label='validation loss')\n",
    "plt.title('Model Loss')\n",
    "plt.xlabel('Epoch')\n",
    "plt.ylabel('Loss')\n",
    "plt.legend()\n",
    "plt.show()\n"
   ],
   "id": "7f4c307dd1dd02bc",
   "outputs": [
    {
     "name": "stdout",
     "output_type": "stream",
     "text": [
      "Epoch 1/35\n",
      "1250/1250 [==============================] - 21s 17ms/step - loss: 1.8089 - accuracy: 0.3486 - val_loss: 1.6765 - val_accuracy: 0.3984\n",
      "Epoch 2/35\n",
      "1250/1250 [==============================] - 20s 16ms/step - loss: 1.6126 - accuracy: 0.4244 - val_loss: 1.5839 - val_accuracy: 0.4293\n",
      "Epoch 3/35\n",
      "1250/1250 [==============================] - 21s 17ms/step - loss: 1.5232 - accuracy: 0.4558 - val_loss: 1.5484 - val_accuracy: 0.4421\n",
      "Epoch 4/35\n",
      "1250/1250 [==============================] - 21s 17ms/step - loss: 1.4519 - accuracy: 0.4834 - val_loss: 1.5002 - val_accuracy: 0.4642\n",
      "Epoch 5/35\n",
      "1250/1250 [==============================] - 22s 18ms/step - loss: 1.3982 - accuracy: 0.5036 - val_loss: 1.5852 - val_accuracy: 0.4390\n",
      "Epoch 6/35\n",
      "1250/1250 [==============================] - 21s 17ms/step - loss: 1.3459 - accuracy: 0.5213 - val_loss: 1.4653 - val_accuracy: 0.4735\n",
      "Epoch 7/35\n",
      "1250/1250 [==============================] - 20s 16ms/step - loss: 1.2950 - accuracy: 0.5374 - val_loss: 1.4413 - val_accuracy: 0.4947\n",
      "Epoch 8/35\n",
      "1250/1250 [==============================] - 19s 15ms/step - loss: 1.2488 - accuracy: 0.5572 - val_loss: 1.4022 - val_accuracy: 0.5087\n",
      "Epoch 9/35\n",
      "1250/1250 [==============================] - 20s 16ms/step - loss: 1.2040 - accuracy: 0.5726 - val_loss: 1.3818 - val_accuracy: 0.5193\n",
      "Epoch 10/35\n",
      "1250/1250 [==============================] - 20s 16ms/step - loss: 1.1574 - accuracy: 0.5890 - val_loss: 1.3474 - val_accuracy: 0.5272\n",
      "Epoch 11/35\n",
      "1250/1250 [==============================] - 20s 16ms/step - loss: 1.1190 - accuracy: 0.6066 - val_loss: 1.3786 - val_accuracy: 0.5228\n",
      "Epoch 12/35\n",
      "1250/1250 [==============================] - 20s 16ms/step - loss: 1.0684 - accuracy: 0.6213 - val_loss: 1.3483 - val_accuracy: 0.5387\n",
      "Epoch 13/35\n",
      "1250/1250 [==============================] - 21s 17ms/step - loss: 1.0215 - accuracy: 0.6386 - val_loss: 1.3474 - val_accuracy: 0.5337\n",
      "Epoch 14/35\n",
      "1250/1250 [==============================] - 21s 17ms/step - loss: 0.9770 - accuracy: 0.6553 - val_loss: 1.3892 - val_accuracy: 0.5225\n",
      "Epoch 15/35\n",
      "1250/1250 [==============================] - 21s 17ms/step - loss: 0.9318 - accuracy: 0.6679 - val_loss: 1.4189 - val_accuracy: 0.5290\n",
      "Epoch 16/35\n",
      "1250/1250 [==============================] - 22s 18ms/step - loss: 0.8868 - accuracy: 0.6873 - val_loss: 1.4006 - val_accuracy: 0.5371\n",
      "Epoch 17/35\n",
      "1250/1250 [==============================] - 20s 16ms/step - loss: 0.8447 - accuracy: 0.7034 - val_loss: 1.4292 - val_accuracy: 0.5368\n",
      "Epoch 18/35\n",
      "1250/1250 [==============================] - 22s 17ms/step - loss: 0.8031 - accuracy: 0.7182 - val_loss: 1.4218 - val_accuracy: 0.5314\n",
      "Epoch 19/35\n",
      "1250/1250 [==============================] - 21s 17ms/step - loss: 0.7581 - accuracy: 0.7329 - val_loss: 1.4610 - val_accuracy: 0.5435\n",
      "Epoch 20/35\n",
      "1250/1250 [==============================] - 21s 17ms/step - loss: 0.7093 - accuracy: 0.7514 - val_loss: 1.4941 - val_accuracy: 0.5377\n",
      "Epoch 21/35\n",
      "1250/1250 [==============================] - 21s 17ms/step - loss: 0.6759 - accuracy: 0.7617 - val_loss: 1.4892 - val_accuracy: 0.5336\n",
      "Epoch 22/35\n",
      "1250/1250 [==============================] - 23s 18ms/step - loss: 0.6272 - accuracy: 0.7803 - val_loss: 1.5604 - val_accuracy: 0.5348\n",
      "Epoch 23/35\n",
      "1250/1250 [==============================] - 22s 18ms/step - loss: 0.5913 - accuracy: 0.7930 - val_loss: 1.6102 - val_accuracy: 0.5256\n",
      "Epoch 24/35\n",
      "1250/1250 [==============================] - 21s 17ms/step - loss: 0.5532 - accuracy: 0.8061 - val_loss: 1.6063 - val_accuracy: 0.5377\n",
      "Epoch 25/35\n",
      "1250/1250 [==============================] - 21s 17ms/step - loss: 0.5112 - accuracy: 0.8224 - val_loss: 1.6410 - val_accuracy: 0.5327\n",
      "Epoch 26/35\n",
      "1250/1250 [==============================] - 22s 17ms/step - loss: 0.4775 - accuracy: 0.8352 - val_loss: 1.7267 - val_accuracy: 0.5314\n",
      "Epoch 27/35\n",
      "1250/1250 [==============================] - 21s 17ms/step - loss: 0.4424 - accuracy: 0.8465 - val_loss: 1.7274 - val_accuracy: 0.5368\n",
      "Epoch 28/35\n",
      "1250/1250 [==============================] - 21s 17ms/step - loss: 0.4115 - accuracy: 0.8589 - val_loss: 1.8005 - val_accuracy: 0.5361\n",
      "Epoch 29/35\n",
      "1250/1250 [==============================] - 20s 16ms/step - loss: 0.3860 - accuracy: 0.8692 - val_loss: 1.8586 - val_accuracy: 0.5312\n",
      "Epoch 30/35\n",
      "1250/1250 [==============================] - 22s 17ms/step - loss: 0.3529 - accuracy: 0.8805 - val_loss: 1.8673 - val_accuracy: 0.5453\n",
      "Epoch 31/35\n",
      "1250/1250 [==============================] - 24s 19ms/step - loss: 0.3297 - accuracy: 0.8878 - val_loss: 1.9432 - val_accuracy: 0.5372\n",
      "Epoch 32/35\n",
      "1250/1250 [==============================] - 23s 19ms/step - loss: 0.3030 - accuracy: 0.8989 - val_loss: 1.9769 - val_accuracy: 0.5363\n",
      "Epoch 33/35\n",
      "1250/1250 [==============================] - 24s 19ms/step - loss: 0.2753 - accuracy: 0.9098 - val_loss: 2.0360 - val_accuracy: 0.5399\n",
      "Epoch 34/35\n",
      "1250/1250 [==============================] - 24s 19ms/step - loss: 0.2620 - accuracy: 0.9117 - val_loss: 2.1742 - val_accuracy: 0.5247\n",
      "Epoch 35/35\n",
      "1250/1250 [==============================] - 23s 18ms/step - loss: 0.2440 - accuracy: 0.9197 - val_loss: 2.1413 - val_accuracy: 0.5381\n",
      "313/313 [==============================] - 3s 8ms/step - loss: 2.1413 - accuracy: 0.5381\n",
      "Validation Loss: 2.141289710998535, Validation Accuracy: 0.538100004196167\n"
     ]
    },
    {
     "data": {
      "text/plain": [
       "<Figure size 640x480 with 1 Axes>"
      ],
      "image/png": "[encoded data removed]"
     },
     "metadata": {},
     "output_type": "display_data"
    },
    {
     "data": {
      "text/plain": [
       "<Figure size 640x480 with 1 Axes>"
      ],
      "image/png": "[encoded data removed]"
     },
     "metadata": {},
     "output_type": "display_data"
    }
   ],
   "execution_count": 9
  },
  {
   "metadata": {
    "ExecuteTime": {
     "end_time": "2024-06-08T03:26:14.869632Z",
     "start_time": "2024-06-08T03:26:12.356100Z"
    }
   },
   "cell_type": "code",
   "source": [
    "test_loss, test_accuracy = model.evaluate(test_data, to_categorical(test_labels))\n",
    "print(test_loss, test_accuracy)\n",
    "print(\"The hyperparameter search is complete.\")\n",
    "print(f\"Optimal number of units in the first densely connected layer: {best_hps.get('units_1')}\")\n",
    "print(f\"Optimal number of hidden layers: {best_hps.get('num_layers')}\")\n",
    "for i in range(best_hps.get('num_layers')):\n",
    "    print(f\"Optimal number of units in layer {i+2}: {best_hps.get(f'units_{i+2}')}\")\n",
    "print(f\"Optimal learning rate: {best_hps.get('learning_rate')}\")"
   ],
   "id": "caf8ca5713985543",
   "outputs": [
    {
     "name": "stdout",
     "output_type": "stream",
     "text": [
      "313/313 [==============================] - 2s 8ms/step - loss: 2.1211 - accuracy: 0.5349\n",
      "2.12113094329834 0.5349000096321106\n",
      "The hyperparameter search is complete.\n",
      "Optimal number of units in the first densely connected layer: 1024\n",
      "Optimal number of hidden layers: 2\n",
      "Optimal number of units in layer 2: 832\n",
      "Optimal number of units in layer 3: 832\n",
      "Optimal learning rate: 0.0001\n"
     ]
    }
   ],
   "execution_count": 17
  },
  {
   "metadata": {},
   "cell_type": "markdown",
   "source": "learning curve on the amount of data included",
   "id": "b3432b34500192de"
  },
  {
   "metadata": {
    "ExecuteTime": {
     "end_time": "2024-06-02T00:39:47.461912Z",
     "start_time": "2024-06-02T00:39:47.453811Z"
    }
   },
   "cell_type": "code",
   "source": [
    "def train_with_different_data_size(size):\n",
    "    subset_X_train = X_train[:size]\n",
    "    subset_y_train = y_train[:size]\n",
    "    model = Sequential()\n",
    "    model.add(Dense(512, activation='relu', input_shape=(3072,)))\n",
    "    model.add(Dense(256, activation='relu'))\n",
    "    model.add(Dense(10, activation='softmax'))\n",
    "    model.compile(optimizer=Adam(learning_rate=1e-3), loss='categorical_crossentropy', metrics=['accuracy'])\n",
    "    history = model.fit(subset_X_train, subset_y_train, epochs=50, validation_data=(X_test, y_test), verbose=0)\n",
    "    return history"
   ],
   "id": "7310023af216631d",
   "execution_count": 11,
   "outputs": []
  },
  {
   "metadata": {
    "ExecuteTime": {
     "end_time": "2024-06-02T00:54:26.828799Z",
     "start_time": "2024-06-02T00:39:48.156848Z"
    }
   },
   "cell_type": "code",
   "source": [
    "data_sizes = [10000, 20000, 30000, 40000]\n",
    "histories_data_size = {}\n",
    "for size in data_sizes:\n",
    "    histories_data_size[size] = train_with_different_data_size(size)"
   ],
   "id": "a90f685e0cbcfafb",
   "execution_count": 12,
   "outputs": []
  },
  {
   "metadata": {
    "ExecuteTime": {
     "end_time": "2024-06-02T00:55:51.517663Z",
     "start_time": "2024-06-02T00:55:51.325038Z"
    }
   },
   "cell_type": "code",
   "source": [
    "plt.figure()\n",
    "for size, history in histories_data_size.items():\n",
    "    plt.plot(history.history['val_accuracy'], label=f'size={size}')\n",
    "plt.title('accuracy vs data size')\n",
    "plt.xlabel('Epoch')\n",
    "plt.ylabel('Accuracy')\n",
    "plt.legend()\n",
    "plt.show()"
   ],
   "id": "f9984cd555b41040",
   "execution_count": 13,
   "outputs": []
  },
  {
   "metadata": {},
   "cell_type": "markdown",
   "source": "learning curve on learning rate",
   "id": "f61db34fdf284a76"
  },
  {
   "metadata": {
    "ExecuteTime": {
     "end_time": "2024-06-01T06:16:15.425058Z",
     "start_time": "2024-06-01T06:16:15.412245Z"
    }
   },
   "cell_type": "code",
   "source": [
    "def train_with_different_lr(lr):\n",
    "    model = Sequential()\n",
    "    model.add(Dense(512, activation='relu', input_shape=(3072,)))\n",
    "    model.add(Dense(256, activation='relu'))\n",
    "    model.add(Dense(10, activation='softmax'))\n",
    "    model.compile(optimizer=Adam(learning_rate=lr), loss='categorical_crossentropy', metrics=['accuracy'])\n",
    "    history = model.fit(X_train, y_train, epochs=50, validation_data=(X_test, y_test), verbose=0)\n",
    "    return history"
   ],
   "id": "f0d4fcc2228a921b",
   "execution_count": 43,
   "outputs": []
  },
  {
   "metadata": {
    "ExecuteTime": {
     "end_time": "2024-06-01T06:39:32.404184Z",
     "start_time": "2024-06-01T06:16:25.430897Z"
    }
   },
   "cell_type": "code",
   "source": [
    "learning_rates = [1e-2, 1e-3, 1e-4]\n",
    "histories = {}\n",
    "for lr in learning_rates:\n",
    "    histories[lr] = train_with_different_lr(lr)"
   ],
   "id": "450ac5792ab2dbb2",
   "execution_count": 44,
   "outputs": []
  },
  {
   "metadata": {
    "ExecuteTime": {
     "end_time": "2024-06-01T06:40:08.603126Z",
     "start_time": "2024-06-01T06:40:08.324634Z"
    }
   },
   "cell_type": "code",
   "source": [
    "plt.figure()\n",
    "for lr, history in histories.items():\n",
    "    plt.plot(history.history['val_accuracy'], label=f'lr={lr}')\n",
    "plt.title('accracy vs learning rate')\n",
    "plt.xlabel('Epoch')\n",
    "plt.ylabel('Accuracy')\n",
    "plt.legend()\n",
    "plt.show()"
   ],
   "id": "a858271a612a931b",
   "execution_count": 45,
   "outputs": []
  },
  {
   "metadata": {},
   "cell_type": "code",
   "execution_count": null,
   "source": "",
   "id": "ae76c02c6f60ef20",
   "outputs": []
  },
  {
   "metadata": {},
   "cell_type": "code",
   "execution_count": null,
   "source": "",
   "id": "3bfea9021f6a06e2",
   "outputs": []
  }
 ],
 "metadata": {
  "kernelspec": {
   "display_name": "Python 3",
   "language": "python",
   "name": "python3"
  },
  "language_info": {
   "codemirror_mode": {
    "name": "ipython",
    "version": 2
   },
   "file_extension": ".py",
   "mimetype": "text/x-python",
   "name": "python",
   "nbconvert_exporter": "python",
   "pygments_lexer": "ipython2",
   "version": "2.7.6"
  }
 },
 "nbformat": 4,
 "nbformat_minor": 5
}
